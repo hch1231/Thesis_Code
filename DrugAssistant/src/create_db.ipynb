{
 "cells": [
  {
   "cell_type": "code",
   "execution_count": 1,
   "id": "initial_id",
   "metadata": {
    "ExecuteTime": {
     "end_time": "2025-03-27T13:10:49.445730Z",
     "start_time": "2025-03-27T13:10:48.942975Z"
    },
    "collapsed": true
   },
   "outputs": [],
   "source": [
    "import pandas as pd \n",
    "df = pd.read_csv(\"test_data.csv\")"
   ]
  },
  {
   "cell_type": "code",
   "execution_count": 2,
   "id": "316115defdb54f2a",
   "metadata": {
    "ExecuteTime": {
     "end_time": "2025-03-27T13:10:49.461152Z",
     "start_time": "2025-03-27T13:10:49.447970Z"
    },
    "collapsed": false
   },
   "outputs": [],
   "source": [
    "test_str = \"血管加压作用的分子\""
   ]
  },
  {
   "cell_type": "code",
   "execution_count": null,
   "id": "b467d98db4275baa",
   "metadata": {
    "ExecuteTime": {
     "end_time": "2025-03-27T13:10:51.690374Z",
     "start_time": "2025-03-27T13:10:50.230470Z"
    },
    "collapsed": false
   },
   "outputs": [
    {
     "name": "stderr",
     "output_type": "stream",
     "text": [
      "C:\\Users\\86189\\AppData\\Local\\Temp\\ipykernel_41620\\1829034338.py:4: LangChainDeprecationWarning: The class `OpenAIEmbeddings` was deprecated in LangChain 0.0.9 and will be removed in 1.0. An updated version of the class exists in the :class:`~langchain-openai package and should be used instead. To use it run `pip install -U :class:`~langchain-openai` and import as `from :class:`~langchain_openai import OpenAIEmbeddings``.\n",
      "  hf = OpenAIEmbeddings(\n"
     ]
    }
   ],
   "source": [
    "from langchain_community.embeddings import OpenAIEmbeddings\n",
    "\n",
    "hf = OpenAIEmbeddings(\n",
    "             openai_api_key='sk-J9LteWcUQzgBqeFWWJHA9BgnFQbijE7qjIlRRZLuJuamjOjp',\n",
    "        base_url=\"https://api.chatanywhere.com.cn/v1\",\n",
    ")"
   ]
  },
  {
   "cell_type": "code",
   "execution_count": 4,
   "id": "beab2365640f3058",
   "metadata": {
    "ExecuteTime": {
     "end_time": "2025-03-27T13:10:59.685647Z",
     "start_time": "2025-03-27T13:10:55.791740Z"
    },
    "collapsed": false
   },
   "outputs": [],
   "source": [
    "import faiss\n",
    "from langchain_community.docstore.in_memory import InMemoryDocstore\n",
    "from langchain_community.vectorstores import FAISS\n",
    "\n",
    "index = faiss.IndexFlatL2(len(hf.embed_query(\"hello world\")))\n",
    "\n",
    "vector_store = FAISS(\n",
    "    embedding_function=hf,\n",
    "    index=index,\n",
    "    docstore=InMemoryDocstore(),\n",
    "    index_to_docstore_id={},\n",
    ")\n"
   ]
  },
  {
   "cell_type": "code",
   "execution_count": 5,
   "id": "4b9bfc3897d2bc04",
   "metadata": {
    "ExecuteTime": {
     "end_time": "2025-03-27T13:11:00.670812Z",
     "start_time": "2025-03-27T13:11:00.661669Z"
    },
    "collapsed": false
   },
   "outputs": [],
   "source": [
    "texts = df['Description'].tolist()"
   ]
  },
  {
   "cell_type": "code",
   "execution_count": 6,
   "id": "88fc0c5ca033e442",
   "metadata": {
    "ExecuteTime": {
     "end_time": "2025-03-27T13:11:00.983627Z",
     "start_time": "2025-03-27T13:11:00.969113Z"
    },
    "collapsed": false
   },
   "outputs": [],
   "source": [
    "df['description'] = df['Description'].apply(lambda x:x.replace(\"#Drug2\",\"\").replace(\"#Drug1\",\"\"))\n",
    "texts = df['description'].tolist()"
   ]
  },
  {
   "cell_type": "code",
   "execution_count": 7,
   "id": "1974d6e7f62bae3f",
   "metadata": {
    "ExecuteTime": {
     "end_time": "2025-03-27T13:11:04.663213Z",
     "start_time": "2025-03-27T13:11:04.655622Z"
    },
    "collapsed": false
   },
   "outputs": [],
   "source": [
    "documents = []\n",
    "from langchain_core.documents import Document\n",
    "for ind,row in df.iterrows():\n",
    "    documents.append(Document(page_content=row['description'], \n",
    "                              metadata={\"type\": row['Interaction type']}))"
   ]
  },
  {
   "cell_type": "code",
   "execution_count": 9,
   "id": "95e697ca81c04391",
   "metadata": {
    "ExecuteTime": {
     "end_time": "2025-03-27T13:11:23.611205Z",
     "start_time": "2025-03-27T13:11:15.928540Z"
    },
    "collapsed": false
   },
   "outputs": [
    {
     "data": {
      "text/plain": [
       "['6be64d0d-ac23-4123-a24c-7bfffa773838',\n",
       " '40c3f477-5536-4e7d-9d43-5cd7c12544e4',\n",
       " '350d1a84-b210-4057-8018-77003d82dc85',\n",
       " '66450ce2-5ad3-4f6e-960f-f1b20741cf95',\n",
       " 'e97fc14a-db04-41f3-80c5-48c2927948a6',\n",
       " '73d88b64-6eab-40b2-af07-734cd4134d6e',\n",
       " '30f20db2-9c09-4844-864f-10937dc090af',\n",
       " 'bdf6f10f-f8b7-4701-89c6-539f9ef28432',\n",
       " '853056e7-a5f3-4ae4-9104-0dc53d64f45b',\n",
       " 'c5b8e73e-846b-4b41-9c3b-9a24d6b5c4b7',\n",
       " '8b3a2768-454b-46a0-946b-3ba7d5f6d1ee',\n",
       " '2bde1ba0-1ee8-4504-857b-c16fa1c9719c',\n",
       " '75f1428d-ff2e-492a-ad15-845bf7ce9504',\n",
       " '18d858fc-7c88-46c1-ac29-2bf4348aff34',\n",
       " 'b2e68fc1-e1f9-4f7c-9ffb-9273827587d9',\n",
       " 'b02f050d-cf78-4011-9ebd-a5542e9b9d27',\n",
       " '8d4ee518-f87c-4c40-bc45-a97cfdc7b563',\n",
       " 'a71cbe1a-851e-412a-8de0-cf93f4475059',\n",
       " '22a367a5-7459-4172-bc3b-5d465e224ad1',\n",
       " '0c5e0fdf-b06f-4ae8-8777-93663ca8d267',\n",
       " '7852dcd6-2036-4799-b02c-f1e05a342407',\n",
       " '9e8e79bc-3b7f-4473-92d2-f8eccac1f9a7',\n",
       " '1aa52a7f-2ec1-425b-8b68-5a2f89858bf5',\n",
       " '612b717c-4f4a-458a-96e0-99bd68cec6aa',\n",
       " '52a33294-b4c0-4a08-99ed-fa0b0470945f',\n",
       " '8e78c26d-6d29-4b5c-86b3-c7732df6d654',\n",
       " '271ba003-28f0-4f5e-ac43-fbf4861f6383',\n",
       " '3bb5dd5f-2ec0-433c-9d9b-a69c279816db',\n",
       " '1da45d0d-cf93-4649-b151-58ebd161a239',\n",
       " '3760ea34-a318-47ac-b5c1-fa3ca5aecde5',\n",
       " 'b087a746-d9aa-475e-a4e2-877c2def19d9',\n",
       " '1fa8c176-5d3a-4602-b711-5c4691af5b47',\n",
       " '1f22695c-0f6d-4677-9cda-de8d5347ff9a',\n",
       " '83dca284-459e-4d29-9dc6-3720c5006f1b',\n",
       " 'd44562a5-a6cb-4256-af7c-680f88f74803',\n",
       " '72e267cc-47d2-4ceb-94e1-414ffb827a4d',\n",
       " 'db370c31-1028-43d0-bd44-2c4fbbc66e70',\n",
       " '7a6144c3-8be0-4686-97df-67d75adfeddc',\n",
       " 'f239d108-51f0-4f17-938a-85476c0d7592',\n",
       " '51017a50-f221-48ce-9b1f-dd28df7b5009',\n",
       " '949ffbf8-b53d-464c-9e8c-973825c5b148',\n",
       " 'a78d826f-b3c7-4a09-94d7-dde8bae5916e',\n",
       " 'aac09c72-35c5-4833-a3df-4629788f7467',\n",
       " '01560248-01cf-4ab3-a568-e3767ad3d663',\n",
       " '54c373cc-6a9d-438f-89b7-d4c6094faec4',\n",
       " 'ad75a42b-d991-4f1b-bb39-b5f16c006778',\n",
       " '34538fc0-fd1b-4f57-a5fe-f9f4d52124df',\n",
       " '83713e49-0844-4766-b9b3-2bef7a65d76a',\n",
       " '5fd5ba3e-2f5a-4085-b7c6-e50a23f42cbd',\n",
       " 'fa069c7e-1c9d-4a67-9c77-fb2f13e17e2e',\n",
       " '9d9e16ae-ae0a-4dd4-aff6-b59065edd87b',\n",
       " '266981ee-fe7f-43bb-96e4-7a158cd31496',\n",
       " 'da55c063-ae48-47f1-a289-ad2b2f72f6b7',\n",
       " 'b3367933-5ff2-4062-b13a-cf165a8d8e17',\n",
       " '0e5b63cb-9d42-4e9a-a0ed-38d5a7abe761',\n",
       " '2c9993fb-39e3-4143-846b-3c23cb4e6f06',\n",
       " '9176c1f0-1572-45f1-a6b3-47d279265266',\n",
       " '2b7cd7b0-5651-49e8-9c5f-b36373acc661',\n",
       " '7b321f13-3614-462d-86d8-db06b4a23300',\n",
       " '66d613cd-8847-4b9f-8442-0e8ee2e7dbe8',\n",
       " '6f70fcb3-9a72-4925-b31a-b11a1c936f5f',\n",
       " '67b48b84-8d33-49d8-b30a-eeaf5fa11c25',\n",
       " '79d349be-84c5-4047-a957-30925a08baa9',\n",
       " 'f123a7e1-4a6c-4c0a-8e92-6f4eae98e33f',\n",
       " 'a2bbe717-8e31-421d-9688-6f6e21aae3fc',\n",
       " '7d9469f9-ab6d-4713-b078-35560dc7b812',\n",
       " '19295969-e6e6-4f90-b6f7-78c5208f1899',\n",
       " '54bec8ef-0df1-47de-bd3e-448e44998ec9',\n",
       " '8e73d926-b3de-4d49-8f9c-86be7d957d5b',\n",
       " 'ba3b413d-7075-4e87-8979-009102c9db48',\n",
       " '756acfac-5588-4877-adc2-4e1d4d82fe84',\n",
       " '865c5abc-8e46-49a4-bfd9-8350fd75cef4',\n",
       " 'f9c3d8d0-80ca-4aa2-b4b3-335215bc84d4',\n",
       " '5e869c67-7fb2-4683-a6ff-0aa33d70d569',\n",
       " '14c568b6-b06a-4a45-b58f-57b98ddd5c77',\n",
       " '181938e8-a44e-4784-a877-83877a1615e4',\n",
       " 'cc98b5cb-916c-49d6-8912-4ce65321d359',\n",
       " '2f727340-1fc1-42ae-8f76-44e1440dca8c',\n",
       " '0ddd8f40-c7db-4abd-8b5a-6a6f0a03aeae',\n",
       " '7dc0baf9-8712-4aaf-b4b9-662fa0254556',\n",
       " '464bed74-33c4-4fb3-a9be-5fb8a4e1cc14',\n",
       " '7d1c9135-2f72-4336-993e-e527b5926d30',\n",
       " '392d0fa9-4201-4955-b294-484824413c64',\n",
       " '6a09a997-231d-4777-bfdb-a666693ec71f',\n",
       " 'bedc79db-f8b3-4d82-b8f9-46cefec8fcb5',\n",
       " '6bb67297-7a3a-41bc-89eb-2fb07e5d5fcd']"
      ]
     },
     "execution_count": 9,
     "metadata": {},
     "output_type": "execute_result"
    }
   ],
   "source": [
    "from uuid import uuid4\n",
    "uuids = [str(uuid4()) for _ in range(len(texts))]\n",
    "\n",
    "vector_store.add_documents(documents=documents, ids=uuids)"
   ]
  },
  {
   "cell_type": "code",
   "execution_count": 10,
   "id": "61020abe00f34191",
   "metadata": {
    "ExecuteTime": {
     "end_time": "2025-03-27T13:11:43.503526Z",
     "start_time": "2025-03-27T13:11:41.234657Z"
    },
    "collapsed": false
   },
   "outputs": [],
   "source": [
    "res = vector_store.similarity_search(\"血管加压作用的分子\",k=10)"
   ]
  },
  {
   "cell_type": "code",
   "execution_count": 13,
   "id": "11e33803769c9c22",
   "metadata": {
    "ExecuteTime": {
     "end_time": "2025-03-27T13:11:54.795667Z",
     "start_time": "2025-03-27T13:11:54.787881Z"
    },
    "collapsed": false
   },
   "outputs": [],
   "source": [
    "vector_store.save_local(\"./faiss_index\") "
   ]
  }
 ],
 "metadata": {
  "kernelspec": {
   "display_name": "Python 3",
   "language": "python",
   "name": "python3"
  },
  "language_info": {
   "codemirror_mode": {
    "name": "ipython",
    "version": 2
   },
   "file_extension": ".py",
   "mimetype": "text/x-python",
   "name": "python",
   "nbconvert_exporter": "python",
   "pygments_lexer": "ipython2",
   "version": "2.7.6"
  }
 },
 "nbformat": 4,
 "nbformat_minor": 5
}
